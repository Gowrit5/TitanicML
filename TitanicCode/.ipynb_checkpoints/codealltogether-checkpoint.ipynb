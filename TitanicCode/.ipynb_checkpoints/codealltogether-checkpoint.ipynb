{
 "cells": [
  {
   "cell_type": "code",
   "execution_count": 2,
   "id": "515c57cc-1b3b-4ecc-9e86-ca50433b4061",
   "metadata": {},
   "outputs": [
    {
     "name": "stdout",
     "output_type": "stream",
     "text": [
      "/Users/gowrit/Desktop/TitanicML/TitanicCode/codealltogether.ipynb\n",
      "/Users/gowrit/Desktop/TitanicML/TitanicCode/.DS_Store\n",
      "/Users/gowrit/Desktop/TitanicML/TitanicCode/Code.ipynb\n",
      "/Users/gowrit/Desktop/TitanicML/TitanicCode/test.csv\n",
      "/Users/gowrit/Desktop/TitanicML/TitanicCode/submission.csv\n",
      "/Users/gowrit/Desktop/TitanicML/TitanicCode/train.csv\n",
      "/Users/gowrit/Desktop/TitanicML/TitanicCode/.ipynb_checkpoints/codealltogether-checkpoint.ipynb\n",
      "% of women who survived: 0.7420382165605095\n",
      "% of men who survived: 0.18890814558058924\n",
      "Your submission was successfully saved!\n"
     ]
    }
   ],
   "source": [
    "import numpy as np \n",
    "import pandas as pd \n",
    "import os\n",
    "import sklearn\n",
    "pd.set_option('display.max_columns', None)\n",
    "for dirname, _, filenames in os.walk('/Users/gowrit/Desktop/TitanicML/TitanicCode'):\n",
    "    for filename in filenames:\n",
    "        print(os.path.join(dirname, filename))\n",
    "\n",
    "train_data = pd.read_csv(\"/Users/gowrit/Desktop/TitanicML/TitanicCode/train.csv\")\n",
    "test_data = pd.read_csv('/Users/gowrit/Desktop/TitanicML/TitanicCode/test.csv') \n",
    "train_data.head()\n",
    "\n",
    "women = train_data.loc[train_data.Sex == 'female'][\"Survived\"]\n",
    "rate_women = sum(women)/len(women)\n",
    "print(\"% of women who survived:\", rate_women)\n",
    "\n",
    "men = train_data.loc[train_data.Sex == 'male'][\"Survived\"]\n",
    "rate_men = sum(men)/len(men) \n",
    "print(\"% of men who survived:\", rate_men) \n",
    "\n",
    "from sklearn.ensemble import RandomForestClassifier\n",
    "y = train_data[\"Survived\"]\n",
    "\n",
    "features = [\"Pclass\", \"Sex\", \"SibSp\", \"Parch\"]\n",
    "X = pd.get_dummies(train_data[features])\n",
    "X_test = pd.get_dummies(test_data[features])\n",
    "\n",
    "model = RandomForestClassifier(n_estimators=100, max_depth=5, random_state=1)\n",
    "model.fit(X, y)\n",
    "predictions = model.predict(X_test)\n",
    "\n",
    "output = pd.DataFrame({'PassengerId': test_data.PassengerId, 'Survived': predictions})\n",
    "output.to_csv('submission.csv', index=False)\n",
    "print(\"Your submission was successfully saved!\")"
   ]
  },
  {
   "cell_type": "code",
   "execution_count": null,
   "id": "01759d1f-fca5-4d34-a3a1-811a6751082c",
   "metadata": {},
   "outputs": [],
   "source": []
  }
 ],
 "metadata": {
  "kernelspec": {
   "display_name": "Python 3 (ipykernel)",
   "language": "python",
   "name": "python3"
  },
  "language_info": {
   "codemirror_mode": {
    "name": "ipython",
    "version": 3
   },
   "file_extension": ".py",
   "mimetype": "text/x-python",
   "name": "python",
   "nbconvert_exporter": "python",
   "pygments_lexer": "ipython3",
   "version": "3.9.6"
  }
 },
 "nbformat": 4,
 "nbformat_minor": 5
}
